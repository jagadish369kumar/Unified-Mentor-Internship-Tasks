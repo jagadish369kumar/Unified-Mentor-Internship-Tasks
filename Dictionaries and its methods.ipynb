{
 "cells": [
  {
   "cell_type": "markdown",
   "id": "478f976d",
   "metadata": {},
   "source": [
    "# Dictionary\n",
    "(1) Dictionaries are used to store data values in key:value pairs.\n",
    "\n",
    "(2) A dictionary is a collection which is ordered*, changeable and do not allow duplicates."
   ]
  },
  {
   "cell_type": "code",
   "execution_count": 18,
   "id": "7588f30a",
   "metadata": {},
   "outputs": [],
   "source": [
    "fruits = {'a':'apple', 'm':'mango', 'o':'orange'}"
   ]
  },
  {
   "cell_type": "code",
   "execution_count": 19,
   "id": "35e89f8c",
   "metadata": {},
   "outputs": [
    {
     "data": {
      "text/plain": [
       "'apple'"
      ]
     },
     "execution_count": 19,
     "metadata": {},
     "output_type": "execute_result"
    }
   ],
   "source": [
    "fruits.get('a')              # get method"
   ]
  },
  {
   "cell_type": "code",
   "execution_count": 20,
   "id": "afcf418c",
   "metadata": {},
   "outputs": [
    {
     "data": {
      "text/plain": [
       "dict_items([('a', 'apple'), ('m', 'mango'), ('o', 'orange')])"
      ]
     },
     "execution_count": 20,
     "metadata": {},
     "output_type": "execute_result"
    }
   ],
   "source": [
    "fruits.items()                 # items method"
   ]
  },
  {
   "cell_type": "code",
   "execution_count": 21,
   "id": "a7c90ee9",
   "metadata": {},
   "outputs": [
    {
     "data": {
      "text/plain": [
       "dict_keys(['a', 'm', 'o'])"
      ]
     },
     "execution_count": 21,
     "metadata": {},
     "output_type": "execute_result"
    }
   ],
   "source": [
    "fruits.keys()                  # keys method"
   ]
  },
  {
   "cell_type": "code",
   "execution_count": 22,
   "id": "918ebc15",
   "metadata": {},
   "outputs": [
    {
     "data": {
      "text/plain": [
       "dict_values(['apple', 'mango', 'orange'])"
      ]
     },
     "execution_count": 22,
     "metadata": {},
     "output_type": "execute_result"
    }
   ],
   "source": [
    "fruits.values()                  # values method"
   ]
  },
  {
   "cell_type": "code",
   "execution_count": 23,
   "id": "daa185b3",
   "metadata": {},
   "outputs": [
    {
     "name": "stdout",
     "output_type": "stream",
     "text": [
      "{'a': 'apple', 'm': 'mango', 'o': 'orange', 'g': 'grapes'}\n"
     ]
    }
   ],
   "source": [
    "fruits.update({'g':'grapes'})\n",
    "print(fruits)"
   ]
  },
  {
   "cell_type": "code",
   "execution_count": 24,
   "id": "4f861dcd",
   "metadata": {},
   "outputs": [
    {
     "name": "stdout",
     "output_type": "stream",
     "text": [
      "{'a': 'apple', 'm': 'mango', 'o': 'orange'}\n"
     ]
    }
   ],
   "source": [
    "fruits.pop('g')\n",
    "print(fruits)"
   ]
  },
  {
   "cell_type": "code",
   "execution_count": 25,
   "id": "91afbe51",
   "metadata": {},
   "outputs": [
    {
     "name": "stdout",
     "output_type": "stream",
     "text": [
      "{'a': 'apple', 'm': 'mango'}\n"
     ]
    }
   ],
   "source": [
    "fruits.popitem()                    # pops last key value pair\n",
    "print(fruits)"
   ]
  },
  {
   "cell_type": "code",
   "execution_count": 29,
   "id": "7e4a30e2",
   "metadata": {},
   "outputs": [
    {
     "name": "stdout",
     "output_type": "stream",
     "text": [
      "<class 'dict'>\n"
     ]
    }
   ],
   "source": [
    "fruits.fromkeys('a','m')\n",
    "print(type(fruits))"
   ]
  },
  {
   "cell_type": "code",
   "execution_count": 30,
   "id": "7c53dc6b",
   "metadata": {},
   "outputs": [
    {
     "name": "stdout",
     "output_type": "stream",
     "text": [
      "{}\n"
     ]
    }
   ],
   "source": [
    "fruits.clear()\n",
    "print(fruits)"
   ]
  },
  {
   "cell_type": "code",
   "execution_count": null,
   "id": "34243524",
   "metadata": {},
   "outputs": [],
   "source": []
  }
 ],
 "metadata": {
  "kernelspec": {
   "display_name": "Python 3 (ipykernel)",
   "language": "python",
   "name": "python3"
  },
  "language_info": {
   "codemirror_mode": {
    "name": "ipython",
    "version": 3
   },
   "file_extension": ".py",
   "mimetype": "text/x-python",
   "name": "python",
   "nbconvert_exporter": "python",
   "pygments_lexer": "ipython3",
   "version": "3.11.5"
  }
 },
 "nbformat": 4,
 "nbformat_minor": 5
}
