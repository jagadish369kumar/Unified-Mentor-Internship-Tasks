{
 "cells": [
  {
   "cell_type": "markdown",
   "id": "fa876efe",
   "metadata": {},
   "source": [
    "### Python Conditional statements\n",
    "#### if, elif, else statements"
   ]
  },
  {
   "cell_type": "code",
   "execution_count": 13,
   "id": "5c3c7c6b",
   "metadata": {},
   "outputs": [
    {
     "name": "stdout",
     "output_type": "stream",
     "text": [
      "False\n"
     ]
    }
   ],
   "source": [
    "a = 2\n",
    "b = 1\n",
    "if a < b:\n",
    "    print(True)\n",
    "else:\n",
    "    print(False)"
   ]
  },
  {
   "cell_type": "code",
   "execution_count": 16,
   "id": "06bd53f9",
   "metadata": {},
   "outputs": [
    {
     "name": "stdout",
     "output_type": "stream",
     "text": [
      "True\n"
     ]
    }
   ],
   "source": [
    "a = 3\n",
    "b = 3\n",
    "if a < b:\n",
    "    print(False)\n",
    "elif a == b:\n",
    "    print(True)"
   ]
  },
  {
   "cell_type": "code",
   "execution_count": 18,
   "id": "d370462a",
   "metadata": {},
   "outputs": [
    {
     "name": "stdout",
     "output_type": "stream",
     "text": [
      "grade A\n"
     ]
    }
   ],
   "source": [
    "marks = 95  # Example value; set this to a, b, or c as needed\n",
    "\n",
    "if marks > 90:\n",
    "    print(\"grade A\")\n",
    "elif marks < 60 and marks > 50:\n",
    "    print(\"grade B\")\n",
    "else:\n",
    "    print(\"fail\")"
   ]
  },
  {
   "cell_type": "code",
   "execution_count": 30,
   "id": "ed23da44",
   "metadata": {},
   "outputs": [
    {
     "name": "stdout",
     "output_type": "stream",
     "text": [
      "grade A\n",
      "Fail\n",
      "grade E\n",
      "Fail\n"
     ]
    }
   ],
   "source": [
    "student1 = 95\n",
    "student2 = 65\n",
    "student3 = 35\n",
    "student4 = 25\n",
    "for i in [student1, student2, student3,student4]:\n",
    "    if i>90:\n",
    "        print('grade A')\n",
    "    elif i>70 and i<65:\n",
    "        print('grade B')\n",
    "    elif i<40 and i > 30:\n",
    "        print('grade E')\n",
    "    else:\n",
    "        print('Fail')"
   ]
  },
  {
   "cell_type": "code",
   "execution_count": 32,
   "id": "89d17aa2",
   "metadata": {},
   "outputs": [
    {
     "name": "stdout",
     "output_type": "stream",
     "text": [
      "Entered\n"
     ]
    }
   ],
   "source": [
    "b , a = 33 , 20\n",
    "\n",
    "if b > a:\n",
    "    print(\"Entered\")\n",
    "else:\n",
    "      print('Did not entered')"
   ]
  },
  {
   "cell_type": "code",
   "execution_count": 34,
   "id": "a883d174",
   "metadata": {},
   "outputs": [
    {
     "name": "stdout",
     "output_type": "stream",
     "text": [
      "vinod scores greater than aman\n"
     ]
    }
   ],
   "source": [
    "aman , vinod = 90 , 91\n",
    "\n",
    "if vinod > aman:\n",
    "      print(\"vinod scores greater than aman\")\n",
    "elif aman == vinod:\n",
    "      print(\"Both scores equally\")"
   ]
  },
  {
   "cell_type": "code",
   "execution_count": 35,
   "id": "560ddb9c",
   "metadata": {},
   "outputs": [
    {
     "name": "stdout",
     "output_type": "stream",
     "text": [
      "vinod scores greater than aman\n"
     ]
    }
   ],
   "source": [
    "if vinod > aman:\n",
    "      print(\"vinod scores greater than aman\")\n",
    "elif aman == vinod:\n",
    "      print(\"Both scores equally\")\n",
    "else:\n",
    "      print('aman scores greater than vinod')"
   ]
  },
  {
   "cell_type": "code",
   "execution_count": 37,
   "id": "c0fe577e",
   "metadata": {},
   "outputs": [
    {
     "ename": "SyntaxError",
     "evalue": "invalid syntax (1346423652.py, line 9)",
     "output_type": "error",
     "traceback": [
      "\u001b[1;36m  Cell \u001b[1;32mIn[37], line 9\u001b[1;36m\u001b[0m\n\u001b[1;33m    else:\u001b[0m\n\u001b[1;37m    ^\u001b[0m\n\u001b[1;31mSyntaxError\u001b[0m\u001b[1;31m:\u001b[0m invalid syntax\n"
     ]
    }
   ],
   "source": [
    "marks = 72\n",
    "\n",
    "if marks > 35:\n",
    "    print(\"He is Pass\")\n",
    "if marks > 60:\n",
    "    print(\"He is in Distinction\")\n",
    "else:\n",
    "    print(\"He is in Mid Range\")\n",
    "else:\n",
    "    print('Sadly, He is Fail')"
   ]
  },
  {
   "cell_type": "code",
   "execution_count": null,
   "id": "7e77ef01",
   "metadata": {},
   "outputs": [],
   "source": []
  }
 ],
 "metadata": {
  "kernelspec": {
   "display_name": "Python 3 (ipykernel)",
   "language": "python",
   "name": "python3"
  },
  "language_info": {
   "codemirror_mode": {
    "name": "ipython",
    "version": 3
   },
   "file_extension": ".py",
   "mimetype": "text/x-python",
   "name": "python",
   "nbconvert_exporter": "python",
   "pygments_lexer": "ipython3",
   "version": "3.11.5"
  }
 },
 "nbformat": 4,
 "nbformat_minor": 5
}
