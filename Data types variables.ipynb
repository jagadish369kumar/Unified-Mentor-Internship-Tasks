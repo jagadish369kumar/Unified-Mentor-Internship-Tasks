{
 "cells": [
  {
   "cell_type": "markdown",
   "id": "3af5a23c",
   "metadata": {},
   "source": [
    "### Primitive Data Types:\n",
    "#### (1) String\n",
    "#### (2) Integer\n",
    "#### (3) Float\n",
    "#### (4) Char"
   ]
  },
  {
   "cell_type": "code",
   "execution_count": 17,
   "id": "4126efbd",
   "metadata": {},
   "outputs": [
    {
     "name": "stdout",
     "output_type": "stream",
     "text": [
      "Sai\n",
      "<class 'str'>\n"
     ]
    }
   ],
   "source": [
    "Name = 'Sai'                     # Variable and Value\n",
    "print(Name)\n",
    "print(type(Name))                # String Datatype"
   ]
  },
  {
   "cell_type": "code",
   "execution_count": 18,
   "id": "3098c60b",
   "metadata": {},
   "outputs": [
    {
     "name": "stdout",
     "output_type": "stream",
     "text": [
      "21\n",
      "<class 'int'>\n"
     ]
    }
   ],
   "source": [
    "a = 21\n",
    "print(a)\n",
    "print(type(a))                   # integer"
   ]
  },
  {
   "cell_type": "code",
   "execution_count": 19,
   "id": "d3059dfa",
   "metadata": {},
   "outputs": [
    {
     "name": "stdout",
     "output_type": "stream",
     "text": [
      "<class 'float'>\n",
      "70.33\n"
     ]
    }
   ],
   "source": [
    "Percentage = 70.33\n",
    "print(type(Percentage))\n",
    "print(Percentage)                # Float"
   ]
  },
  {
   "cell_type": "markdown",
   "id": "2d13b07d",
   "metadata": {},
   "source": [
    "### Containers:\n",
    "#### (1) List\n",
    "#### (2) Tuple\n",
    "#### (3) Dictionary"
   ]
  },
  {
   "cell_type": "code",
   "execution_count": 20,
   "id": "42f12843",
   "metadata": {},
   "outputs": [
    {
     "name": "stdout",
     "output_type": "stream",
     "text": [
      "['Sai', 25, 30000]\n",
      "<class 'list'>\n"
     ]
    }
   ],
   "source": [
    "Employee = ['Sai', 25, 30000]    # List(we can modify values in it)\n",
    "print(Employee)\n",
    "print(type(Employee))            # Container Type List"
   ]
  },
  {
   "cell_type": "code",
   "execution_count": 21,
   "id": "3bd767a5",
   "metadata": {},
   "outputs": [
    {
     "name": "stdout",
     "output_type": "stream",
     "text": [
      "('sai', 25, 30000)\n",
      "<class 'tuple'>\n"
     ]
    }
   ],
   "source": [
    "Employee = (\"sai\", 25, 30000)    # Tuple(we cannot modify)\n",
    "print(Employee)\n",
    "print(type(Employee))            # Container Type tuple"
   ]
  },
  {
   "cell_type": "code",
   "execution_count": 22,
   "id": "9ccb3e9c",
   "metadata": {},
   "outputs": [
    {
     "name": "stdout",
     "output_type": "stream",
     "text": [
      "{30000, 25, 'sai'}\n",
      "<class 'set'>\n"
     ]
    }
   ],
   "source": [
    "Employee = {\"sai\", 25, 30000}    # Set(gives random values)\n",
    "print(Employee)\n",
    "print(type(Employee))            # Container Type tuple"
   ]
  },
  {
   "cell_type": "code",
   "execution_count": 4,
   "id": "e445b281",
   "metadata": {},
   "outputs": [
    {
     "name": "stdout",
     "output_type": "stream",
     "text": [
      "<class 'dict'>\n",
      "{'name': 'Sai', 'age': 25, 'salary': 30000}\n"
     ]
    }
   ],
   "source": [
    "Employee = {'name': 'Sai', 'age': 25, 'salary': 30000} # Dictionaries(key value pairs)\n",
    "print(type(Employee))                                  # type dictionary\n",
    "print(Employee)"
   ]
  },
  {
   "cell_type": "code",
   "execution_count": 5,
   "id": "f8a3041a",
   "metadata": {},
   "outputs": [
    {
     "data": {
      "text/plain": [
       "25"
      ]
     },
     "execution_count": 5,
     "metadata": {},
     "output_type": "execute_result"
    }
   ],
   "source": [
    "Employee.get('age')                                    # 1.(.get)for extracting a value from dictionary called Employee"
   ]
  },
  {
   "cell_type": "code",
   "execution_count": 6,
   "id": "7ee60238",
   "metadata": {},
   "outputs": [
    {
     "data": {
      "text/plain": [
       "25"
      ]
     },
     "execution_count": 6,
     "metadata": {},
     "output_type": "execute_result"
    }
   ],
   "source": [
    "Employee['age']                                        # 2.[age]for extracting a value from dictionary called Employee"
   ]
  },
  {
   "cell_type": "code",
   "execution_count": null,
   "id": "20112c59",
   "metadata": {},
   "outputs": [],
   "source": []
  }
 ],
 "metadata": {
  "kernelspec": {
   "display_name": "Python 3 (ipykernel)",
   "language": "python",
   "name": "python3"
  },
  "language_info": {
   "codemirror_mode": {
    "name": "ipython",
    "version": 3
   },
   "file_extension": ".py",
   "mimetype": "text/x-python",
   "name": "python",
   "nbconvert_exporter": "python",
   "pygments_lexer": "ipython3",
   "version": "3.11.5"
  }
 },
 "nbformat": 4,
 "nbformat_minor": 5
}
