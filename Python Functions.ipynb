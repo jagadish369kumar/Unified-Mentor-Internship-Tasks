{
 "cells": [
  {
   "cell_type": "markdown",
   "id": "e38c7037",
   "metadata": {},
   "source": [
    "# Python Functions\n",
    "(1)A function is a block of code which only runs when it is called.\n",
    "\n",
    "(2)Advanced Functions - lambda, map, zip"
   ]
  },
  {
   "cell_type": "code",
   "execution_count": 81,
   "id": "eb4cc875",
   "metadata": {},
   "outputs": [],
   "source": [
    "def my_fun():\n",
    "     print('universe')"
   ]
  },
  {
   "cell_type": "code",
   "execution_count": 82,
   "id": "e9c96df3",
   "metadata": {},
   "outputs": [
    {
     "name": "stdout",
     "output_type": "stream",
     "text": [
      "universe\n"
     ]
    }
   ],
   "source": [
    "my_fun()"
   ]
  },
  {
   "cell_type": "code",
   "execution_count": 83,
   "id": "441312f1",
   "metadata": {},
   "outputs": [
    {
     "name": "stdout",
     "output_type": "stream",
     "text": [
      "CR007_Ravi\n"
     ]
    }
   ],
   "source": [
    "def my_ID(name):\n",
    "    print('CR007_' + name)\n",
    "    \n",
    "my_ID('Ravi')"
   ]
  },
  {
   "cell_type": "code",
   "execution_count": 84,
   "id": "9fbf906c",
   "metadata": {},
   "outputs": [
    {
     "name": "stdout",
     "output_type": "stream",
     "text": [
      "007_CS\n"
     ]
    }
   ],
   "source": [
    "def std_ID(subject):\n",
    "    print('007_' + subject)\n",
    "std_ID('CS')"
   ]
  },
  {
   "cell_type": "code",
   "execution_count": 85,
   "id": "23f57a3e",
   "metadata": {},
   "outputs": [],
   "source": [
    "def fruits():\n",
    "    print('apple', 'banana', 'orange')"
   ]
  },
  {
   "cell_type": "code",
   "execution_count": 86,
   "id": "2cf4559c",
   "metadata": {},
   "outputs": [
    {
     "name": "stdout",
     "output_type": "stream",
     "text": [
      "apple banana orange\n"
     ]
    }
   ],
   "source": [
    "fruits()"
   ]
  },
  {
   "cell_type": "code",
   "execution_count": 87,
   "id": "afd917dd",
   "metadata": {},
   "outputs": [
    {
     "name": "stdout",
     "output_type": "stream",
     "text": [
      "one mercury two venus three earth four mars\n"
     ]
    }
   ],
   "source": [
    "def planets(planet1, planet2, planet3, planet4):\n",
    "    print('one ' + planet1,\n",
    "          'two ' + planet2,\n",
    "          'three ' + planet3,\n",
    "          'four ' + planet4)\n",
    "\n",
    "planets('mercury', 'venus', 'earth', 'mars')"
   ]
  },
  {
   "cell_type": "code",
   "execution_count": 88,
   "id": "87d37b08",
   "metadata": {},
   "outputs": [
    {
     "name": "stdout",
     "output_type": "stream",
     "text": [
      "apple_red orange_orange yellow_banana green_watermelon\n"
     ]
    }
   ],
   "source": [
    "def fruitcolors(color1, color2, color3, color4):\n",
    "    print('apple_' + color1,\n",
    "         'orange_' + color2,\n",
    "         'yellow_' + color3,\n",
    "         'green_' + color4)\n",
    "fruitcolors('red', 'orange', 'banana', 'watermelon')"
   ]
  },
  {
   "cell_type": "code",
   "execution_count": 89,
   "id": "a495aef7",
   "metadata": {},
   "outputs": [
    {
     "name": "stdout",
     "output_type": "stream",
     "text": [
      "red_tomato purple_brinjal green_spinach\n"
     ]
    }
   ],
   "source": [
    "def vegcolors(color1,color2,color3):\n",
    "    print('red_' + color1,\n",
    "         'purple_' + color2,\n",
    "         'green_' + color3)\n",
    "vegcolors('tomato', 'brinjal', 'spinach')"
   ]
  },
  {
   "cell_type": "code",
   "execution_count": 90,
   "id": "4d87d9d9",
   "metadata": {},
   "outputs": [],
   "source": [
    "def cities(city1,city2,city3):\n",
    "    print('letter H_' + city1,\n",
    "         'letter B_' + city2,\n",
    "         'letter C_' + city3)"
   ]
  },
  {
   "cell_type": "code",
   "execution_count": 91,
   "id": "23209eb2",
   "metadata": {},
   "outputs": [
    {
     "name": "stdout",
     "output_type": "stream",
     "text": [
      "letter H_Hyderabad letter B_Bangalore letter C_Coimbatore\n"
     ]
    }
   ],
   "source": [
    "cities('Hyderabad','Bangalore','Coimbatore')"
   ]
  },
  {
   "cell_type": "code",
   "execution_count": 92,
   "id": "4a63d015",
   "metadata": {},
   "outputs": [],
   "source": [
    "def add(a,b,c,d,e):\n",
    "    return a+b+c+d+e"
   ]
  },
  {
   "cell_type": "code",
   "execution_count": 93,
   "id": "2b066aff",
   "metadata": {},
   "outputs": [
    {
     "data": {
      "text/plain": [
       "15"
      ]
     },
     "execution_count": 93,
     "metadata": {},
     "output_type": "execute_result"
    }
   ],
   "source": [
    "add(1,2,3,4,5)"
   ]
  },
  {
   "cell_type": "code",
   "execution_count": 94,
   "id": "8ab72e25",
   "metadata": {},
   "outputs": [],
   "source": [
    "def sub(a,b,c,d,e):\n",
    "    return a-b-c-d-e"
   ]
  },
  {
   "cell_type": "code",
   "execution_count": 95,
   "id": "99fd2707",
   "metadata": {},
   "outputs": [
    {
     "data": {
      "text/plain": [
       "-9"
      ]
     },
     "execution_count": 95,
     "metadata": {},
     "output_type": "execute_result"
    }
   ],
   "source": [
    "sub(3,3,3,3,3)"
   ]
  },
  {
   "cell_type": "markdown",
   "id": "2324ffe9",
   "metadata": {},
   "source": [
    "# Lambda Function"
   ]
  },
  {
   "cell_type": "code",
   "execution_count": 96,
   "id": "ab61aed8",
   "metadata": {},
   "outputs": [],
   "source": [
    "add = lambda a,b,c:print(a+b+c)"
   ]
  },
  {
   "cell_type": "code",
   "execution_count": 97,
   "id": "5dd2f024",
   "metadata": {},
   "outputs": [
    {
     "name": "stdout",
     "output_type": "stream",
     "text": [
      "10\n"
     ]
    }
   ],
   "source": [
    "add(4,4,2)"
   ]
  },
  {
   "cell_type": "code",
   "execution_count": 98,
   "id": "8ccc1c99",
   "metadata": {},
   "outputs": [],
   "source": [
    "mul = lambda a,b,c:print(a*b*c)"
   ]
  },
  {
   "cell_type": "code",
   "execution_count": 99,
   "id": "4752ee2f",
   "metadata": {},
   "outputs": [
    {
     "name": "stdout",
     "output_type": "stream",
     "text": [
      "8\n"
     ]
    }
   ],
   "source": [
    "mul(2,2,2)"
   ]
  },
  {
   "cell_type": "code",
   "execution_count": 100,
   "id": "74ee4c0f",
   "metadata": {},
   "outputs": [],
   "source": [
    "sub = lambda a,b,c:print(a-b-c)"
   ]
  },
  {
   "cell_type": "code",
   "execution_count": 101,
   "id": "050a6f24",
   "metadata": {},
   "outputs": [
    {
     "name": "stdout",
     "output_type": "stream",
     "text": [
      "0\n"
     ]
    }
   ],
   "source": [
    "sub(2,1,1)"
   ]
  },
  {
   "cell_type": "code",
   "execution_count": 106,
   "id": "f644889a",
   "metadata": {},
   "outputs": [],
   "source": [
    "div = lambda a,b,c,d:print(a/b/c/d)"
   ]
  },
  {
   "cell_type": "code",
   "execution_count": 107,
   "id": "66b98e00",
   "metadata": {},
   "outputs": [
    {
     "name": "stdout",
     "output_type": "stream",
     "text": [
      "0.1111111111111111\n"
     ]
    }
   ],
   "source": [
    "div(6,2,9,3)"
   ]
  },
  {
   "cell_type": "markdown",
   "id": "4714fbd2",
   "metadata": {},
   "source": [
    "# map function"
   ]
  },
  {
   "cell_type": "code",
   "execution_count": 5,
   "id": "5b4aa5f7",
   "metadata": {},
   "outputs": [
    {
     "name": "stdout",
     "output_type": "stream",
     "text": [
      "(1, 4, 9, 16, 25)\n"
     ]
    }
   ],
   "source": [
    "nums = (1,2,3,4,5)\n",
    "def sq(n):\n",
    "    return n*n\n",
    "square = map(sq,nums)\n",
    "print(tuple(square))"
   ]
  },
  {
   "cell_type": "code",
   "execution_count": 14,
   "id": "2c426a98",
   "metadata": {},
   "outputs": [
    {
     "name": "stdout",
     "output_type": "stream",
     "text": [
      "(1, 4, 9, 16, 25)\n"
     ]
    }
   ],
   "source": [
    "def sq(nums):\n",
    "    return nums*nums\n",
    "square = map(sq,nums)\n",
    "print(tuple(square))"
   ]
  },
  {
   "cell_type": "code",
   "execution_count": 22,
   "id": "4db9be35",
   "metadata": {},
   "outputs": [
    {
     "name": "stdout",
     "output_type": "stream",
     "text": [
      "[1, 4, 9, 16, 25, 36]\n"
     ]
    }
   ],
   "source": [
    "def sq(n):\n",
    "    return n*n\n",
    "square = map(sq,n)\n",
    "print(list(square))"
   ]
  },
  {
   "cell_type": "code",
   "execution_count": 25,
   "id": "ed77f4ea",
   "metadata": {},
   "outputs": [
    {
     "name": "stdout",
     "output_type": "stream",
     "text": [
      "[1, 4, 9, 16, 25, 36]\n"
     ]
    }
   ],
   "source": [
    "squares = map(lambda n:n*n,n)    # using lambda function\n",
    "print(list(squares))         "
   ]
  },
  {
   "cell_type": "code",
   "execution_count": 30,
   "id": "030fd7d7",
   "metadata": {},
   "outputs": [
    {
     "name": "stdout",
     "output_type": "stream",
     "text": [
      "[2, 4, 6, 8, 10, 12]\n"
     ]
    }
   ],
   "source": [
    "def update(nums):\n",
    "    return nums*2\n",
    "double = map(update,nums)\n",
    "print(list(double))"
   ]
  },
  {
   "cell_type": "markdown",
   "id": "9a771d5a",
   "metadata": {},
   "source": [
    "# Filter function"
   ]
  },
  {
   "cell_type": "code",
   "execution_count": 13,
   "id": "9f40e452",
   "metadata": {},
   "outputs": [
    {
     "name": "stdout",
     "output_type": "stream",
     "text": [
      "(2, 4)\n"
     ]
    }
   ],
   "source": [
    "def even(nums):\n",
    "    return nums%2 == 0\n",
    "evens = filter(even,nums)\n",
    "print(tuple(evens))"
   ]
  },
  {
   "cell_type": "code",
   "execution_count": 21,
   "id": "b4b4697e",
   "metadata": {},
   "outputs": [
    {
     "name": "stdout",
     "output_type": "stream",
     "text": [
      "[2, 4, 6]\n"
     ]
    }
   ],
   "source": [
    "n = [1,2,3,4,5,6]\n",
    "def even(n):\n",
    "    return n%2 == 0\n",
    "evens = filter(even,n)\n",
    "print(list(evens))"
   ]
  },
  {
   "cell_type": "code",
   "execution_count": 26,
   "id": "483af97f",
   "metadata": {},
   "outputs": [
    {
     "name": "stdout",
     "output_type": "stream",
     "text": [
      "[2, 4, 6]\n"
     ]
    }
   ],
   "source": [
    "evens = filter(lambda n:n%2==0,n)       # using lambda function filteration of even numbers done\n",
    "print(list(evens))"
   ]
  },
  {
   "cell_type": "code",
   "execution_count": 53,
   "id": "eb03c016",
   "metadata": {},
   "outputs": [
    {
     "name": "stdout",
     "output_type": "stream",
     "text": [
      "[4, 8, 12, 6]\n"
     ]
    }
   ],
   "source": [
    "n = [2,4,6,3]\n",
    "doubles = map(lambda n:n*2,n)\n",
    "print(list(doubles))"
   ]
  },
  {
   "cell_type": "code",
   "execution_count": 54,
   "id": "5d096b3c",
   "metadata": {},
   "outputs": [
    {
     "name": "stdout",
     "output_type": "stream",
     "text": [
      "[2, 4, 6]\n"
     ]
    }
   ],
   "source": [
    "evens = filter(lambda n:n%2==0,n)\n",
    "print(list(evens))"
   ]
  },
  {
   "cell_type": "code",
   "execution_count": null,
   "id": "e788be3e",
   "metadata": {},
   "outputs": [],
   "source": []
  }
 ],
 "metadata": {
  "kernelspec": {
   "display_name": "Python 3 (ipykernel)",
   "language": "python",
   "name": "python3"
  },
  "language_info": {
   "codemirror_mode": {
    "name": "ipython",
    "version": 3
   },
   "file_extension": ".py",
   "mimetype": "text/x-python",
   "name": "python",
   "nbconvert_exporter": "python",
   "pygments_lexer": "ipython3",
   "version": "3.11.5"
  }
 },
 "nbformat": 4,
 "nbformat_minor": 5
}
